{
 "cells": [
  {
   "cell_type": "code",
   "execution_count": 143,
   "metadata": {
    "collapsed": false
   },
   "outputs": [
    {
     "data": {
      "text/html": [
       "<div>\n",
       "<table border=\"1\" class=\"dataframe\">\n",
       "  <thead>\n",
       "    <tr style=\"text-align: right;\">\n",
       "      <th></th>\n",
       "      <th>Area</th>\n",
       "      <th>IlliteracyRate</th>\n",
       "      <th>LiteracyRate</th>\n",
       "    </tr>\n",
       "  </thead>\n",
       "  <tbody>\n",
       "    <tr>\n",
       "      <th>0</th>\n",
       "      <td>India</td>\n",
       "      <td>30.17</td>\n",
       "      <td>69.83</td>\n",
       "    </tr>\n",
       "    <tr>\n",
       "      <th>1</th>\n",
       "      <td>Uttar Pradesh</td>\n",
       "      <td>39.91</td>\n",
       "      <td>60.09</td>\n",
       "    </tr>\n",
       "    <tr>\n",
       "      <th>2</th>\n",
       "      <td>Rajasthan</td>\n",
       "      <td>41.13</td>\n",
       "      <td>58.87</td>\n",
       "    </tr>\n",
       "    <tr>\n",
       "      <th>3</th>\n",
       "      <td>Delhi</td>\n",
       "      <td>12.90</td>\n",
       "      <td>87.10</td>\n",
       "    </tr>\n",
       "    <tr>\n",
       "      <th>4</th>\n",
       "      <td>Haryana</td>\n",
       "      <td>25.36</td>\n",
       "      <td>74.64</td>\n",
       "    </tr>\n",
       "  </tbody>\n",
       "</table>\n",
       "</div>"
      ],
      "text/plain": [
       "            Area  IlliteracyRate  LiteracyRate\n",
       "0          India           30.17         69.83\n",
       "1  Uttar Pradesh           39.91         60.09\n",
       "2      Rajasthan           41.13         58.87\n",
       "3          Delhi           12.90         87.10\n",
       "4        Haryana           25.36         74.64"
      ]
     },
     "execution_count": 143,
     "metadata": {},
     "output_type": "execute_result"
    }
   ],
   "source": [
    "# import data for analysis\n",
    "\n",
    "import pandas as pd\n",
    "\n",
    "# Dataset one: illiteracy rate for population aged more than 15 years by Area\n",
    "illitRate = pd.read_excel('AdultIlliteracyrate.xls')\n",
    "illitRate.columns = ['Area','IlliteracyRate'] \n",
    "illitRate['LiteracyRate'] = 100 - illitRate['IlliteracyRate']\n",
    "\n",
    "illitRate.head()"
   ]
  },
  {
   "cell_type": "code",
   "execution_count": 148,
   "metadata": {
    "collapsed": false
   },
   "outputs": [
    {
     "data": {
      "text/html": [
       "<div>\n",
       "<table border=\"1\" class=\"dataframe\">\n",
       "  <thead>\n",
       "    <tr style=\"text-align: right;\">\n",
       "      <th></th>\n",
       "      <th>Area</th>\n",
       "      <th>Internet</th>\n",
       "    </tr>\n",
       "  </thead>\n",
       "  <tbody>\n",
       "    <tr>\n",
       "      <th>0</th>\n",
       "      <td>Uttar Pradesh</td>\n",
       "      <td>1.9</td>\n",
       "    </tr>\n",
       "    <tr>\n",
       "      <th>1</th>\n",
       "      <td>Rajasthan</td>\n",
       "      <td>1.8</td>\n",
       "    </tr>\n",
       "    <tr>\n",
       "      <th>2</th>\n",
       "      <td>Delhi</td>\n",
       "      <td>17.6</td>\n",
       "    </tr>\n",
       "    <tr>\n",
       "      <th>3</th>\n",
       "      <td>Haryana</td>\n",
       "      <td>5.3</td>\n",
       "    </tr>\n",
       "    <tr>\n",
       "      <th>4</th>\n",
       "      <td>Uttarakhand</td>\n",
       "      <td>3.2</td>\n",
       "    </tr>\n",
       "  </tbody>\n",
       "</table>\n",
       "</div>"
      ],
      "text/plain": [
       "            Area Internet\n",
       "0  Uttar Pradesh      1.9\n",
       "1      Rajasthan      1.8\n",
       "2          Delhi     17.6\n",
       "3        Haryana      5.3\n",
       "4    Uttarakhand      3.2"
      ]
     },
     "execution_count": 148,
     "metadata": {},
     "output_type": "execute_result"
    }
   ],
   "source": [
    "# Dataset two: Internet access to population by Area\n",
    "internetAcc = pd.read_excel('AvailabilityofassetsComputerlaptopwithinternet.xls')\n",
    "internetAcc = internetAcc.drop(internetAcc.index[0])\n",
    "internetAcc = internetAcc.T\n",
    "internetAcc = internetAcc.drop(internetAcc.index[0:2])\n",
    "internetAcc = internetAcc.reset_index()\n",
    "internetAcc.columns = ['Area','Internet']\n",
    "internetAcc.head()"
   ]
  },
  {
   "cell_type": "code",
   "execution_count": 248,
   "metadata": {
    "collapsed": false
   },
   "outputs": [
    {
     "data": {
      "text/html": [
       "<div>\n",
       "<table border=\"1\" class=\"dataframe\">\n",
       "  <thead>\n",
       "    <tr style=\"text-align: right;\">\n",
       "      <th></th>\n",
       "      <th>Area</th>\n",
       "      <th>IlliteracyRate</th>\n",
       "      <th>LiteracyRate</th>\n",
       "      <th>Internet</th>\n",
       "      <th>scaledLiteracyRate</th>\n",
       "      <th>scaledInternetAccess</th>\n",
       "    </tr>\n",
       "  </thead>\n",
       "  <tbody>\n",
       "    <tr>\n",
       "      <th>0</th>\n",
       "      <td>Uttar Pradesh</td>\n",
       "      <td>39.91</td>\n",
       "      <td>60.09</td>\n",
       "      <td>1.9</td>\n",
       "      <td>0.450189</td>\n",
       "      <td>0.117784</td>\n",
       "    </tr>\n",
       "    <tr>\n",
       "      <th>1</th>\n",
       "      <td>Rajasthan</td>\n",
       "      <td>41.13</td>\n",
       "      <td>58.87</td>\n",
       "      <td>1.8</td>\n",
       "      <td>0.481927</td>\n",
       "      <td>0.123371</td>\n",
       "    </tr>\n",
       "    <tr>\n",
       "      <th>2</th>\n",
       "      <td>Delhi</td>\n",
       "      <td>12.90</td>\n",
       "      <td>87.10</td>\n",
       "      <td>17.6</td>\n",
       "      <td>0.252464</td>\n",
       "      <td>0.759311</td>\n",
       "    </tr>\n",
       "    <tr>\n",
       "      <th>3</th>\n",
       "      <td>Haryana</td>\n",
       "      <td>25.36</td>\n",
       "      <td>74.64</td>\n",
       "      <td>5.3</td>\n",
       "      <td>0.071677</td>\n",
       "      <td>0.0721601</td>\n",
       "    </tr>\n",
       "    <tr>\n",
       "      <th>4</th>\n",
       "      <td>Uttarakhand</td>\n",
       "      <td>23.31</td>\n",
       "      <td>76.69</td>\n",
       "      <td>3.2</td>\n",
       "      <td>0.018347</td>\n",
       "      <td>0.0451583</td>\n",
       "    </tr>\n",
       "  </tbody>\n",
       "</table>\n",
       "</div>"
      ],
      "text/plain": [
       "            Area  IlliteracyRate  LiteracyRate Internet  scaledLiteracyRate  \\\n",
       "0  Uttar Pradesh           39.91         60.09      1.9            0.450189   \n",
       "1      Rajasthan           41.13         58.87      1.8            0.481927   \n",
       "2          Delhi           12.90         87.10     17.6            0.252464   \n",
       "3        Haryana           25.36         74.64      5.3            0.071677   \n",
       "4    Uttarakhand           23.31         76.69      3.2            0.018347   \n",
       "\n",
       "  scaledInternetAccess  \n",
       "0             0.117784  \n",
       "1             0.123371  \n",
       "2             0.759311  \n",
       "3            0.0721601  \n",
       "4            0.0451583  "
      ]
     },
     "execution_count": 248,
     "metadata": {},
     "output_type": "execute_result"
    }
   ],
   "source": [
    "mergedDF = illitRate.merge(internetAcc, on='Area', how='inner')\n",
    "\n",
    "# Feature scaling\n",
    "\n",
    "mergedDF['scaledLiteracyRate'] = abs(mergedDF['LiteracyRate'] - mergedDF['LiteracyRate'].mean())/(mergedDF['LiteracyRate'].max() - mergedDF['LiteracyRate'].min())\n",
    "                                    \n",
    "mergedDF['scaledInternetAccess'] = abs(mergedDF['Internet'] - mergedDF['Internet'].mean())/(mergedDF['Internet'].max() - mergedDF['Internet'].min())\n",
    "#mergedDF = mergedDF.sort(columns ='scaledLiteracyRate')                                   \n",
    "mergedDF.head()\n",
    "\n",
    "\n"
   ]
  },
  {
   "cell_type": "code",
   "execution_count": null,
   "metadata": {
    "collapsed": false
   },
   "outputs": [],
   "source": [
    "%matplotlib inline\n",
    "\n",
    "import matplotlib.pyplot as plt\n",
    "import numpy as np\n",
    "\n",
    "\n",
    "plt.figure(figsize=(15,5))\n",
    "states = mergedDF['Area']\n",
    "xpos = np.arange(len(states))\n",
    "#mergedDF[['Area','scaledLiteracyRate','scaledInternetAccess']].plot(kind = 'bar')\n",
    "#mergedDF[['Area','scaledLiteracyRate','scaledInternetAccess']].plot(kind = 'line')\n",
    "plt.bar(mergedDF.index, mergedDF['scaledLiteracyRate'], label='Literacy Rate', alpha = 0.25,c= 'red')\n",
    "plt.bar(mergedDF.index, mergedDF['scaledInternetAccess'], label = 'Internet Access',color = 'blue', alpha = .25, width = 0.25)\n",
    "plt.xlabel('Indian States')\n",
    "plt.xticks(xpos, states, rotation=75);\n",
    "plt.legend(loc=(.8,.75),frameon=False, fontsize = 10);\n",
    "#plt.bar(mergedDF.index, mergedDF['scaledLiteracyRate'])\n",
    "\n",
    "# remove frame from bars\n",
    "for spine in plt.gca().spines.values():\n",
    "    spine.set_visible (False)\n",
    "plt.gca().spines.values\n",
    "\n",
    "# remove ticks\n",
    "plt.tick_params(top='off',left='off',right='off',bottom='off');\n",
    "\n",
    "\n",
    "\n",
    "\n",
    "\n"
   ]
  },
  {
   "cell_type": "code",
   "execution_count": null,
   "metadata": {
    "collapsed": true
   },
   "outputs": [],
   "source": []
  }
 ],
 "metadata": {
  "anaconda-cloud": {},
  "kernelspec": {
   "display_name": "Python [default]",
   "language": "python",
   "name": "python3"
  },
  "language_info": {
   "codemirror_mode": {
    "name": "ipython",
    "version": 3
   },
   "file_extension": ".py",
   "mimetype": "text/x-python",
   "name": "python",
   "nbconvert_exporter": "python",
   "pygments_lexer": "ipython3",
   "version": "3.5.2"
  }
 },
 "nbformat": 4,
 "nbformat_minor": 1
}
